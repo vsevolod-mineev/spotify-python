{
 "cells": [
  {
   "cell_type": "code",
   "execution_count": 1,
   "id": "90a1d78b",
   "metadata": {},
   "outputs": [
    {
     "name": "stdout",
     "output_type": "stream",
     "text": [
      "Requirement already satisfied: requests in /Users/vsevolod_mineev/miniconda3/lib/python3.9/site-packages (2.26.0)\r\n",
      "Requirement already satisfied: urllib3<1.27,>=1.21.1 in /Users/vsevolod_mineev/miniconda3/lib/python3.9/site-packages (from requests) (1.24.3)\r\n",
      "Requirement already satisfied: idna<4,>=2.5 in /Users/vsevolod_mineev/miniconda3/lib/python3.9/site-packages (from requests) (2.7)\r\n",
      "Requirement already satisfied: charset-normalizer~=2.0.0 in /Users/vsevolod_mineev/miniconda3/lib/python3.9/site-packages (from requests) (2.0.8)\r\n",
      "Requirement already satisfied: certifi>=2017.4.17 in /Users/vsevolod_mineev/miniconda3/lib/python3.9/site-packages (from requests) (2021.10.8)\r\n"
     ]
    }
   ],
   "source": [
    "!pip install requests"
   ]
  },
  {
   "cell_type": "code",
   "execution_count": 2,
   "id": "b0a9be4b",
   "metadata": {},
   "outputs": [],
   "source": [
    "import requests\n",
    "import datetime"
   ]
  },
  {
   "cell_type": "code",
   "execution_count": 3,
   "id": "11275bc6",
   "metadata": {},
   "outputs": [],
   "source": [
    "import base64"
   ]
  },
  {
   "cell_type": "code",
   "execution_count": 11,
   "id": "ec8c48c9",
   "metadata": {},
   "outputs": [],
   "source": [
    "client_id = ''\n",
    "client_secret = ''"
   ]
  },
  {
   "cell_type": "code",
   "execution_count": 5,
   "id": "3392573f",
   "metadata": {},
   "outputs": [],
   "source": [
    "# do a lookup for a token\n",
    "# this token is for future requests"
   ]
  },
  {
   "cell_type": "code",
   "execution_count": 6,
   "id": "a69d86a9",
   "metadata": {},
   "outputs": [
    {
     "data": {
      "text/plain": [
       "str"
      ]
     },
     "execution_count": 6,
     "metadata": {},
     "output_type": "execute_result"
    }
   ],
   "source": [
    "client_creds = f\"{client_id}:{client_secret}\"\n",
    "type(client_creds)"
   ]
  },
  {
   "cell_type": "code",
   "execution_count": 7,
   "id": "890bea88",
   "metadata": {},
   "outputs": [
    {
     "data": {
      "text/plain": [
       "bytes"
      ]
     },
     "execution_count": 7,
     "metadata": {},
     "output_type": "execute_result"
    }
   ],
   "source": [
    "client_creds_b64 = base64.b64encode(client_creds.encode())\n",
    "type(client_creds_b64)"
   ]
  },
  {
   "cell_type": "code",
   "execution_count": 8,
   "id": "ddbbeae7",
   "metadata": {},
   "outputs": [],
   "source": [
    "token_url = 'https://accounts.spotify.com/api/token'\n",
    "method = \"POST\"\n",
    "token_data = {\n",
    "    \"grant_type\": \"client_credentials\"\n",
    "}\n",
    "token_headers = {\n",
    "    \"Authorization\": f\"Basic {client_creds_b64.decode()}\"\n",
    "}"
   ]
  },
  {
   "cell_type": "code",
   "execution_count": 9,
   "id": "3655e5fe",
   "metadata": {},
   "outputs": [
    {
     "name": "stdout",
     "output_type": "stream",
     "text": [
      "{'access_token': 'BQAxzZ86qx8zUtGPIIXMfCQvBHpsohRkvYeykBXPPTl1C0-iK2wmNFnwMcY0-HRIeq10tOerk5_wOcf90EQ', 'token_type': 'Bearer', 'expires_in': 3600}\n"
     ]
    }
   ],
   "source": [
    "r = requests.post(token_url, data=token_data, headers=token_headers)\n",
    "print(r.json())\n",
    "valid_request = r.status_code in range(200,299)"
   ]
  },
  {
   "cell_type": "code",
   "execution_count": 10,
   "id": "574190f4",
   "metadata": {},
   "outputs": [],
   "source": [
    "if valid request: \n",
    "    now = datetime.datetime.now()\n",
    "    access_token = token_response_data['access_token']\n",
    "    expires_in = token_response_data['expires_in'] # seconds\n",
    "    expires = now + datetime.timedelta(seconds=expires_in)\n",
    "    did_expire = expires < now"
   ]
  }
 ],
 "metadata": {
  "kernelspec": {
   "display_name": "Python 3 (ipykernel)",
   "language": "python",
   "name": "python3"
  },
  "language_info": {
   "codemirror_mode": {
    "name": "ipython",
    "version": 3
   },
   "file_extension": ".py",
   "mimetype": "text/x-python",
   "name": "python",
   "nbconvert_exporter": "python",
   "pygments_lexer": "ipython3",
   "version": "3.9.6"
  }
 },
 "nbformat": 4,
 "nbformat_minor": 5
}
